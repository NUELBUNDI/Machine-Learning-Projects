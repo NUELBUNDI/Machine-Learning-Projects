{
  "nbformat": 4,
  "nbformat_minor": 0,
  "metadata": {
    "colab": {
      "name": "ML- Logistic Regression-Employee Attrition.ipynb",
      "private_outputs": true,
      "provenance": [],
      "collapsed_sections": [],
      "authorship_tag": "ABX9TyN+0mTgjdQHDy2ifAl6kQju",
      "include_colab_link": true
    },
    "kernelspec": {
      "name": "python3",
      "display_name": "Python 3"
    },
    "language_info": {
      "name": "python"
    }
  },
  "cells": [
    {
      "cell_type": "markdown",
      "metadata": {
        "id": "view-in-github",
        "colab_type": "text"
      },
      "source": [
        "<a href=\"https://colab.research.google.com/github/NUELBUNDI/Machine-Learning-Projects/blob/main/ML_Logistic_Regression_Employee_Attrition.ipynb\" target=\"_parent\"><img src=\"https://colab.research.google.com/assets/colab-badge.svg\" alt=\"Open In Colab\"/></a>"
      ]
    },
    {
      "cell_type": "code",
      "execution_count": null,
      "metadata": {
        "id": "CIUJ9EGOLb3m"
      },
      "outputs": [],
      "source": [
        "import pandas as pd\n",
        "import numpy as np\n",
        "import seaborn as sns\n",
        "import plotly.express as px\n",
        "import matplotlib\n",
        "import matplotlib.pyplot as plt\n"
      ]
    },
    {
      "cell_type": "code",
      "source": [
        "url=\"https://raw.githubusercontent.com/NUELBUNDI/Machine-Learning-Projects/main/Employee-Attrition.csv\"\n",
        "\n",
        "df=pd.read_csv(url)\n",
        "print(f'Rows x Columns is :{df.shape}')"
      ],
      "metadata": {
        "id": "en3wmI3mNHHO"
      },
      "execution_count": null,
      "outputs": []
    },
    {
      "cell_type": "code",
      "source": [
        "print(f' The Column Names are :{df.columns}')"
      ],
      "metadata": {
        "id": "TomEVlEDNRnT"
      },
      "execution_count": null,
      "outputs": []
    },
    {
      "cell_type": "code",
      "source": [
        "# first five Columns\n",
        "df.head(2)"
      ],
      "metadata": {
        "id": "IRZsy9ASNzbZ"
      },
      "execution_count": null,
      "outputs": []
    },
    {
      "cell_type": "code",
      "source": [
        "df.info()"
      ],
      "metadata": {
        "id": "zfvzRtc9N7Uk"
      },
      "execution_count": null,
      "outputs": []
    },
    {
      "cell_type": "code",
      "source": [
        "df.columns.tolist()"
      ],
      "metadata": {
        "id": "TwpJIraRa7Wi"
      },
      "execution_count": null,
      "outputs": []
    },
    {
      "cell_type": "code",
      "source": [
        "df.nunique()"
      ],
      "metadata": {
        "id": "oeXsFWDqOrSy"
      },
      "execution_count": null,
      "outputs": []
    },
    {
      "cell_type": "code",
      "source": [
        "df.isna().sum()"
      ],
      "metadata": {
        "id": "LAWS2G2VPDZw"
      },
      "execution_count": null,
      "outputs": []
    },
    {
      "cell_type": "code",
      "source": [
        "df.describe()"
      ],
      "metadata": {
        "id": "N84BWJBgPRdc"
      },
      "execution_count": null,
      "outputs": []
    },
    {
      "cell_type": "markdown",
      "source": [
        "## Exploratory Data Analysis and Visualization\n"
      ],
      "metadata": {
        "id": "ekYk0EP1PlLD"
      }
    },
    {
      "cell_type": "code",
      "source": [
        "%matplotlib inline\n",
        "\n",
        "sns.set_style('darkgrid')\n",
        "matplotlib.rcParams['font.size']=14\n",
        "matplotlib.rcParams['figure.figsize']=(10,6)\n",
        "matplotlib.rcParams['figure.facecolor']='#00000000'"
      ],
      "metadata": {
        "id": "PXGljsN5Pnkc"
      },
      "execution_count": null,
      "outputs": []
    },
    {
      "cell_type": "code",
      "source": [
        "def HistogramDistributionInData(name, color):\n",
        "  fig= px.histogram(df,\n",
        "                    x=name,\n",
        "                    marginal='box',\n",
        "                    title=f'Distribution of {name}',\n",
        "                    color=color)\n",
        "  fig.update_layout(bargap=0.1)\n",
        "  \n",
        "  return fig.show()\n"
      ],
      "metadata": {
        "id": "9t6xl3zSUObg"
      },
      "execution_count": null,
      "outputs": []
    },
    {
      "cell_type": "code",
      "source": [
        "HistogramDistributionInData('Age','Attrition')"
      ],
      "metadata": {
        "id": "GQPO-upkVaX-"
      },
      "execution_count": null,
      "outputs": []
    },
    {
      "cell_type": "markdown",
      "source": [
        "The Age is Normal distribution\n",
        "The staff between the age of 20-35 have high no's of attrition"
      ],
      "metadata": {
        "id": "B_BBnOt6XHhh"
      }
    },
    {
      "cell_type": "code",
      "source": [
        "HistogramDistributionInData('PerformanceRating','Attrition')"
      ],
      "metadata": {
        "id": "KPWp5WT9XJa8"
      },
      "execution_count": null,
      "outputs": []
    },
    {
      "cell_type": "markdown",
      "source": [
        "High No's of attrition for staff under perfomance rating of 3 compared to performance rating of 4\n"
      ],
      "metadata": {
        "id": "-PM9l781Xulc"
      }
    },
    {
      "cell_type": "code",
      "source": [
        "df.YearsInCurrentRole.unique()"
      ],
      "metadata": {
        "id": "vn29ijeSXdfy"
      },
      "execution_count": null,
      "outputs": []
    },
    {
      "cell_type": "code",
      "source": [
        "HistogramDistributionInData('YearsInCurrentRole','Attrition')"
      ],
      "metadata": {
        "id": "cA1bkLTTX_AR"
      },
      "execution_count": null,
      "outputs": []
    },
    {
      "cell_type": "code",
      "source": [
        "px.bar(y=df.YearsInCurrentRole.value_counts(),\n",
        "       title='Count by the No of Years in the Current Role',\n",
        "       )\n"
      ],
      "metadata": {
        "id": "4XyLfElnYO3y"
      },
      "execution_count": null,
      "outputs": []
    },
    {
      "cell_type": "code",
      "source": [
        "HistogramDistributionInData('MonthlyIncome','Attrition')"
      ],
      "metadata": {
        "id": "n4pHvpBPZNtp"
      },
      "execution_count": null,
      "outputs": []
    },
    {
      "cell_type": "code",
      "source": [
        "df.columns"
      ],
      "metadata": {
        "id": "qyim0equXUG2"
      },
      "execution_count": null,
      "outputs": []
    },
    {
      "cell_type": "code",
      "source": [
        "df.drop(columns=['EmployeeNumber'],inplace=True)"
      ],
      "metadata": {
        "id": "w5HaFJ19JtkJ"
      },
      "execution_count": null,
      "outputs": []
    },
    {
      "cell_type": "code",
      "source": [
        "from sklearn.model_selection import train_test_split\n",
        "\n",
        "train_val_df , test_df =train_test_split(df,test_size=0.2, random_state=42)\n",
        "\n",
        "train_df , val_df =train_test_split(train_val_df,random_state=42)\n",
        "\n",
        "\n",
        "\n",
        "print(f'df :{df.shape}')\n",
        "\n",
        "print(f'train_df :{train_df.shape}')\n",
        "\n",
        "print(f'test_df :{test_df.shape}')\n",
        "\n",
        "print(f'val_df :{val_df.shape}')"
      ],
      "metadata": {
        "id": "0W8BjBN6JVci"
      },
      "execution_count": null,
      "outputs": []
    },
    {
      "cell_type": "code",
      "source": [
        "input_cols=[]\n",
        "for col in df.columns:\n",
        "  if col != 'Attrition':\n",
        "    input_cols.append(col)\n",
        "\n",
        "target_col= 'Attrition'"
      ],
      "metadata": {
        "id": "S58jqRi0K69Y"
      },
      "execution_count": null,
      "outputs": []
    },
    {
      "cell_type": "code",
      "source": [
        "print(input_cols)\n",
        "\n",
        "print(target_col)"
      ],
      "metadata": {
        "id": "uoadxOAlKd6m"
      },
      "execution_count": null,
      "outputs": []
    },
    {
      "cell_type": "code",
      "source": [
        "train_inputs= train_df[input_cols].copy()\n",
        "train_targets= train_df[target_col]\n",
        "\n",
        "\n",
        "val_inputs=val_df[input_cols].copy()\n",
        "val_targets= val_df[target_col].copy()\n",
        "\n",
        "test_inputs= test_df[input_cols].copy()\n",
        "test_targets= test_df[target_col].copy()"
      ],
      "metadata": {
        "id": "RrdSI0mHLWzA"
      },
      "execution_count": null,
      "outputs": []
    },
    {
      "cell_type": "code",
      "source": [
        "numeric_cols = train_inputs.select_dtypes(include=np.number).columns.tolist()\n",
        "categorical_cols=train_inputs.select_dtypes('object').columns.tolist()"
      ],
      "metadata": {
        "id": "8v3aZ6uaL-qR"
      },
      "execution_count": null,
      "outputs": []
    },
    {
      "cell_type": "code",
      "source": [
        "train_inputs[numeric_cols].describe()"
      ],
      "metadata": {
        "id": "qxNjoLoZMUJg"
      },
      "execution_count": null,
      "outputs": []
    },
    {
      "cell_type": "markdown",
      "source": [
        "# Scaling Numerical Features\n",
        "\n"
      ],
      "metadata": {
        "id": "apcLQ_s_Nr2d"
      }
    },
    {
      "cell_type": "code",
      "source": [
        "from sklearn.preprocessing import MinMaxScaler"
      ],
      "metadata": {
        "id": "rXs6I3oAMimz"
      },
      "execution_count": null,
      "outputs": []
    },
    {
      "cell_type": "code",
      "source": [
        "scaler= MinMaxScaler()"
      ],
      "metadata": {
        "id": "zeUsUZ0OMtfi"
      },
      "execution_count": null,
      "outputs": []
    },
    {
      "cell_type": "code",
      "source": [
        "scaler.fit(df[numeric_cols])"
      ],
      "metadata": {
        "id": "omXxnXskNBSj"
      },
      "execution_count": null,
      "outputs": []
    },
    {
      "cell_type": "code",
      "source": [
        "print(f'Minimum : {list(scaler.data_min_)}')\n",
        "\n",
        "print(f'Max : {list(scaler.data_max_)}')"
      ],
      "metadata": {
        "id": "FX7V796iMxY-"
      },
      "execution_count": null,
      "outputs": []
    },
    {
      "cell_type": "code",
      "source": [
        "train_inputs[numeric_cols]=scaler.transform(train_inputs[numeric_cols])\n",
        "val_inputs[numeric_cols] = scaler.transform(val_inputs[numeric_cols])\n",
        "test_inputs[numeric_cols] = scaler.transform(test_inputs[numeric_cols])"
      ],
      "metadata": {
        "id": "n9cicKNXNRpf"
      },
      "execution_count": null,
      "outputs": []
    },
    {
      "cell_type": "code",
      "source": [
        "df.nunique()"
      ],
      "metadata": {
        "id": "LpHee74po3r-"
      },
      "execution_count": null,
      "outputs": []
    },
    {
      "cell_type": "code",
      "source": [
        "df[numeric_cols].nunique()"
      ],
      "metadata": {
        "id": "1svx_01fNqcD"
      },
      "execution_count": null,
      "outputs": []
    },
    {
      "cell_type": "code",
      "source": [
        "from sklearn.preprocessing import OneHotEncoder"
      ],
      "metadata": {
        "id": "ydGGzPZbN9sX"
      },
      "execution_count": null,
      "outputs": []
    },
    {
      "cell_type": "code",
      "source": [
        "encoder= OneHotEncoder(sparse=False,handle_unknown='ignore')"
      ],
      "metadata": {
        "id": "xO-n4WKcOFWD"
      },
      "execution_count": null,
      "outputs": []
    },
    {
      "cell_type": "code",
      "source": [
        "encoder.fit(df[categorical_cols])"
      ],
      "metadata": {
        "id": "Jjo6HvZ5OUn7"
      },
      "execution_count": null,
      "outputs": []
    },
    {
      "cell_type": "code",
      "source": [
        "encoder.categories_"
      ],
      "metadata": {
        "id": "SqzuG6KFOOJM"
      },
      "execution_count": null,
      "outputs": []
    },
    {
      "cell_type": "code",
      "source": [
        "encoded_cols= list(encoder.get_feature_names_out(categorical_cols))\n",
        "print(encoded_cols)\n",
        "print(len(encoded_cols))"
      ],
      "metadata": {
        "id": "SG2drRHCOfb2"
      },
      "execution_count": null,
      "outputs": []
    },
    {
      "cell_type": "code",
      "source": [
        "train_inputs[encoded_cols] = encoder.transform(train_inputs[categorical_cols])\n",
        "val_inputs[encoded_cols] = encoder.transform(val_inputs[categorical_cols])\n",
        "test_inputs[encoded_cols] = encoder.transform(test_inputs[categorical_cols])\n"
      ],
      "metadata": {
        "id": "rn8wp18kOwTI"
      },
      "execution_count": null,
      "outputs": []
    },
    {
      "cell_type": "code",
      "source": [
        "pd.set_option('display.max_columns', None)"
      ],
      "metadata": {
        "id": "LWohIJb3R2U0"
      },
      "execution_count": null,
      "outputs": []
    },
    {
      "cell_type": "code",
      "source": [
        "test_inputs"
      ],
      "metadata": {
        "id": "5yNMERnXR30c"
      },
      "execution_count": null,
      "outputs": []
    },
    {
      "cell_type": "code",
      "source": [
        "from sklearn.linear_model import LogisticRegression"
      ],
      "metadata": {
        "id": "fdGpYFsESHCq"
      },
      "execution_count": null,
      "outputs": []
    },
    {
      "cell_type": "code",
      "source": [
        "model=LogisticRegression(solver='liblinear')"
      ],
      "metadata": {
        "id": "gR0aA2cZSQbm"
      },
      "execution_count": null,
      "outputs": []
    },
    {
      "cell_type": "code",
      "source": [
        "model.fit(train_inputs[numeric_cols + encoded_cols],train_targets)"
      ],
      "metadata": {
        "id": "Sbw4FNqHSXnV"
      },
      "execution_count": null,
      "outputs": []
    },
    {
      "cell_type": "code",
      "source": [
        "print(numeric_cols + encoded_cols)"
      ],
      "metadata": {
        "id": "wfFBiUwlSmns"
      },
      "execution_count": null,
      "outputs": []
    },
    {
      "cell_type": "code",
      "source": [
        "print(model.coef_.tolist())"
      ],
      "metadata": {
        "id": "aYBeP7NBSo4o"
      },
      "execution_count": null,
      "outputs": []
    },
    {
      "cell_type": "code",
      "source": [
        "print(model.intercept_)"
      ],
      "metadata": {
        "id": "stLVJwW0Srge"
      },
      "execution_count": null,
      "outputs": []
    },
    {
      "cell_type": "markdown",
      "source": [
        "### Making Predictions and Evaluating the Model"
      ],
      "metadata": {
        "id": "wyN71ESvStq3"
      }
    },
    {
      "cell_type": "code",
      "source": [
        "X_train = train_inputs[numeric_cols + encoded_cols]\n",
        "X_val = val_inputs[numeric_cols + encoded_cols]\n",
        "X_test = test_inputs[numeric_cols + encoded_cols]"
      ],
      "metadata": {
        "id": "4tuZqNSwSwHk"
      },
      "execution_count": null,
      "outputs": []
    },
    {
      "cell_type": "code",
      "source": [
        "train_preds= model.predict(X_train)\n",
        "\n",
        "train_probs=model.predict_proba(X_train)\n",
        "train_probs"
      ],
      "metadata": {
        "id": "1O6lFEdPSyE0"
      },
      "execution_count": null,
      "outputs": []
    },
    {
      "cell_type": "code",
      "source": [
        "from sklearn.metrics import accuracy_score"
      ],
      "metadata": {
        "id": "9zUE1RSYTZGt"
      },
      "execution_count": null,
      "outputs": []
    },
    {
      "cell_type": "code",
      "source": [
        "accuracy_score(train_targets,train_preds)"
      ],
      "metadata": {
        "id": "RBDUO9znTbpZ"
      },
      "execution_count": null,
      "outputs": []
    },
    {
      "cell_type": "code",
      "source": [
        "from sklearn.metrics import confusion_matrix\n",
        "\n",
        "confusion_matrix(train_targets, train_preds, normalize='true')"
      ],
      "metadata": {
        "id": "WVNsWbjNTqnV"
      },
      "execution_count": null,
      "outputs": []
    },
    {
      "cell_type": "code",
      "source": [
        "def predict_and_plot(inputs, targets, name=''):\n",
        "  preds=model.predict(inputs)\n",
        "\n",
        "  accuracy=accuracy_score(targets, preds)\n",
        "  print(f'Accuracy : {accuracy*100:.2f}')\n",
        "\n",
        "  cf =confusion_matrix(targets,preds,normalize ='true')\n",
        "  plt.figure()\n",
        "  sns.heatmap(cf,annot=True)\n",
        "  plt.xlabel('Prediction')\n",
        "  plt.ylabel('Target')\n",
        "  plt.title((f'{name} Confusion Matrix'))\n",
        "\n",
        "  return preds"
      ],
      "metadata": {
        "id": "ESiK_5c1Tuez"
      },
      "execution_count": null,
      "outputs": []
    },
    {
      "cell_type": "code",
      "source": [
        "train_preds = predict_and_plot(X_train, train_targets, 'Training')"
      ],
      "metadata": {
        "id": "gbpSIT0sTxSD"
      },
      "execution_count": null,
      "outputs": []
    },
    {
      "cell_type": "code",
      "source": [
        "val_preds = predict_and_plot(X_val, val_targets, 'Validatiaon')"
      ],
      "metadata": {
        "id": "4uIJFVvyTzdP"
      },
      "execution_count": null,
      "outputs": []
    },
    {
      "cell_type": "code",
      "source": [
        "test_preds = predict_and_plot(X_test, test_targets, 'Test')"
      ],
      "metadata": {
        "id": "111kUP8rT1Mg"
      },
      "execution_count": null,
      "outputs": []
    },
    {
      "cell_type": "code",
      "source": [
        "def random_guess(inputs):\n",
        "    return np.random.choice([\"No\", \"Yes\"], len(inputs))\n",
        "\n",
        "def all_no(inputs):\n",
        "  return np.full(len(inputs), \"No\")\n"
      ],
      "metadata": {
        "id": "mOcOLhqOT9fB"
      },
      "execution_count": null,
      "outputs": []
    },
    {
      "cell_type": "code",
      "source": [
        "accuracy_score(test_targets, random_guess(X_test))"
      ],
      "metadata": {
        "id": "WXi_vSDfT_Ib"
      },
      "execution_count": null,
      "outputs": []
    },
    {
      "cell_type": "code",
      "source": [
        "accuracy_score(test_targets, all_no(X_test))"
      ],
      "metadata": {
        "id": "pn2vRfd6UA8o"
      },
      "execution_count": null,
      "outputs": []
    },
    {
      "cell_type": "code",
      "source": [
        "def predict_input(single_input):\n",
        "    input_df = pd.DataFrame([single_input])\n",
        "    input_df[numeric_cols] = scaler.transform(input_df[numeric_cols])\n",
        "    input_df[encoded_cols] = encoder.transform(input_df[categorical_cols])\n",
        "    X_input = input_df[numeric_cols + encoded_cols]\n",
        "    pred = model.predict(X_input)[0]\n",
        "    prob = model.predict_proba(X_input)[0][list(model.classes_).index(pred)]\n",
        "    return pred, prob"
      ],
      "metadata": {
        "id": "WkdPNllvUL44"
      },
      "execution_count": null,
      "outputs": []
    },
    {
      "cell_type": "code",
      "source": [
        "# df.head(1).to_dict('records')"
      ],
      "metadata": {
        "id": "3N2pyOAwVokn"
      },
      "execution_count": null,
      "outputs": []
    },
    {
      "cell_type": "code",
      "source": [
        "new_input= {\n",
        "    'Age': 20,\n",
        "  'Attrition': 'Yes',\n",
        "  'BusinessTravel': 'Travel_Rarely',\n",
        "  'DailyRate': 102,\n",
        "  'Department': 'Sales',\n",
        "  'DistanceFromHome': 2,\n",
        "  'Education': 2,\n",
        "  'EducationField': 'Life Sciences',\n",
        "  'EmployeeCount': 1,\n",
        "  'EnvironmentSatisfaction': 2,\n",
        "  'Gender': 'Female',\n",
        "  'HourlyRate': 94,\n",
        "  'JobInvolvement': 3,\n",
        "  'JobLevel': 2,\n",
        "  'JobRole': 'Sales Executive',\n",
        "  'JobSatisfaction': 4,\n",
        "  'MaritalStatus': 'Single',\n",
        "  'MonthlyIncome': 100000,\n",
        "  'MonthlyRate': 19479,\n",
        "  'NumCompaniesWorked': 8,\n",
        "  'Over18': 'Y',\n",
        "  'OverTime': 'Yes',\n",
        "  'PercentSalaryHike': 11,\n",
        "  'PerformanceRating': 3,\n",
        "  'RelationshipSatisfaction': 1,\n",
        "  'StandardHours': 100,\n",
        "  'StockOptionLevel': 0,\n",
        "  'TotalWorkingYears': 15,\n",
        "  'TrainingTimesLastYear': 2,\n",
        "  'WorkLifeBalance': 1,\n",
        "  'YearsAtCompany': 5,\n",
        "  'YearsInCurrentRole': 4,\n",
        "  'YearsSinceLastPromotion': 5,\n",
        "  'YearsWithCurrManager': 5}\n"
      ],
      "metadata": {
        "id": "C9F0mgr7WOV4"
      },
      "execution_count": null,
      "outputs": []
    },
    {
      "cell_type": "code",
      "source": [
        "\n",
        "predict_input(new_input)"
      ],
      "metadata": {
        "id": "7hAxk8UpWqS0"
      },
      "execution_count": null,
      "outputs": []
    }
  ]
}